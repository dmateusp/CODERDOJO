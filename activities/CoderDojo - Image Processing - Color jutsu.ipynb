{
 "cells": [
  {
   "cell_type": "markdown",
   "metadata": {},
   "source": [
    "# CoderDojo - Colors jutsu\n",
    "\n",
    "## Image processing activities (1)\n",
    "\n",
    "### This activity was made for CoderDojo Institute of Technology Tallaght, Ireland by mentor Daniel Mateus Pires in an attempt to make educational activities much clearer and interactive using Jupyter's features.\n",
    "\n",
    "This activity and all other activities created at the CoderDojo are free to use/modify by anyone in any context \n",
    "\n"
   ]
  },
  {
   "cell_type": "markdown",
   "metadata": {},
   "source": [
    "# What are images?\n",
    "\n",
    "An image is made of very small blocks called pixels. Pixel is in fact just a short for \"picture element\"!\n",
    "\n",
    "When you see an image size in a computer (example: 800x600) it means the image has 800 pixels of width and 600 pixels of height\n",
    "\n",
    "Think about it next time you look at a cute puppy online!"
   ]
  },
  {
   "cell_type": "code",
   "execution_count": null,
   "metadata": {
    "collapsed": false
   },
   "outputs": [],
   "source": [
    "%matplotlib inline\n",
    "\n",
    "# importing libraries\n",
    "import matplotlib.pyplot as plt\n",
    "import matplotlib.image as mpimg\n",
    "import numpy as np\n",
    "from PIL import Image\n",
    "\n",
    "# Reading the image\n",
    "img=mpimg.imread('../images/puppy.png')\n",
    "\n",
    "# Showing the image\n",
    "plt.imshow(img)"
   ]
  },
  {
   "cell_type": "markdown",
   "metadata": {},
   "source": [
    "### Today we will start with a very simple image, that has only one pixel"
   ]
  },
  {
   "cell_type": "code",
   "execution_count": null,
   "metadata": {
    "collapsed": false
   },
   "outputs": [],
   "source": [
    "one_pixel_image = np.array(\n",
    "    [\n",
    "        [\n",
    "            [0,0,0] # This is the pixel!\n",
    "        ]\n",
    "    ])\n",
    "plt.imshow(one_pixel_image, interpolation='nearest')\n",
    "plt.show()"
   ]
  },
  {
   "cell_type": "markdown",
   "metadata": {},
   "source": [
    "## How is the image organised?\n",
    "To create the information for the image we use: `\n",
    "np.array()\n",
    "`\n",
    "\n",
    "The array in it represents the image. But let's not focus on the structure yet!\n",
    "\n",
    "This is the information of the image:\n",
    "\n",
    "`\n",
    "[\n",
    "  [\n",
    "    [0,0,0]\n",
    "  ]\n",
    "]\n",
    "`\n",
    "\n",
    "The color of the pixel is organised that way: \n",
    "[RED, GREEN, BLUE] and the values can be from 0 to 1 representing the amount of each color in the pixel.\n",
    "\n",
    "Our pixel is black because it has 0 red, 0 green and 0 blue!"
   ]
  },
  {
   "cell_type": "markdown",
   "metadata": {
    "collapsed": true
   },
   "source": [
    "Now we are going to make yellow.\n",
    "Yellow is made of Red and Green so that give us a pixel like this one: [1, 1, 0] (Red, Green, Blue)\n",
    "\n",
    "#### Let's make yellow!"
   ]
  },
  {
   "cell_type": "code",
   "execution_count": null,
   "metadata": {
    "collapsed": false
   },
   "outputs": [],
   "source": [
    "yellow_pixel = np.array(\n",
    "    [\n",
    "        [\n",
    "            [RED, GREEN, BLUE] # Replace the \"RED\" \"GREEN\" \"BLUE\" with values!\n",
    "        ]\n",
    "    ]\n",
    ")\n",
    "\n",
    "plt.imshow(yellow_pixel)\n",
    "plt.show()"
   ]
  },
  {
   "cell_type": "markdown",
   "metadata": {},
   "source": [
    "#### Play time! try to play with intensities (you can go from 0 to 1), try [0.3, 0.7, 0.2] for example, and see what you get\n",
    "\n",
    "Then change intensities and try to guess the color before running the code"
   ]
  },
  {
   "cell_type": "code",
   "execution_count": null,
   "metadata": {
    "collapsed": false,
    "scrolled": true
   },
   "outputs": [],
   "source": [
    "mycolor = np.array(\n",
    "    [\n",
    "        [\n",
    "            [0.3,0.7,0.2] # Play with the intensities!\n",
    "        ]\n",
    "    ]\n",
    ")\n",
    "\n",
    "plt.imshow(mycolor)\n",
    "plt.show()"
   ]
  },
  {
   "cell_type": "markdown",
   "metadata": {},
   "source": [
    "## Now let's add pixel!"
   ]
  },
  {
   "cell_type": "code",
   "execution_count": null,
   "metadata": {
    "collapsed": false
   },
   "outputs": [],
   "source": [
    "simple_image = np.array(\n",
    "    [\n",
    "        [\n",
    "            [1,0,0]\n",
    "        ],\n",
    "        [\n",
    "            [0,1,0]\n",
    "        ]\n",
    "    ])\n",
    "plt.imshow(simple_image, interpolation='nearest')\n",
    "plt.show()"
   ]
  },
  {
   "cell_type": "markdown",
   "metadata": {},
   "source": [
    "This is a very simple image! it contains 2 pixels:\n",
    "One red and one green.\n",
    "\n",
    "Let's look at the code!\n",
    "`\n",
    "simple_image = np.array(\n",
    "[\n",
    "  [\n",
    "    [1,0,0]\n",
    "  ],\n",
    "  [\n",
    "    [0,1,0]\n",
    "  ]\n",
    "])`\n",
    "                         \n",
    "This seems like a very messy array, but you need to look at it that way:\n",
    "* [1,0,0] this is a pixel\n",
    "* [0,1,0] this is another pixel\n",
    "\n",
    "The organisation of the pixel is as follows: [Amount of Red, Amount of Green, Amount of Blue]\n",
    "\n",
    "#### Your turn now, try to add another pixel (blue this time!)"
   ]
  },
  {
   "cell_type": "code",
   "execution_count": null,
   "metadata": {
    "collapsed": false
   },
   "outputs": [],
   "source": [
    "simple_image_with_blue = np.array(\n",
    "    [\n",
    "        [\n",
    "            [1,0,0]\n",
    "        ],\n",
    "        [\n",
    "            [0,1,0]\n",
    "        ],\n",
    "        [\n",
    "             # Something is missing here!\n",
    "        ]\n",
    "    ]) \n",
    "plt.imshow(simple_image_with_blue, interpolation='nearest')\n",
    "plt.show()"
   ]
  },
  {
   "cell_type": "markdown",
   "metadata": {
    "collapsed": true
   },
   "source": [
    "Great!\n",
    "\n",
    "#### Now, flip it to make it horizontal"
   ]
  },
  {
   "cell_type": "code",
   "execution_count": null,
   "metadata": {
    "collapsed": false
   },
   "outputs": [],
   "source": [
    "image_horizontal = np.array(\n",
    "    [\n",
    "        [\n",
    "             # Add code here!\n",
    "        ]\n",
    "    ])\n",
    "\n",
    "plt.imshow(image_horizontal, interpolation='nearest')\n",
    "plt.show()"
   ]
  },
  {
   "cell_type": "markdown",
   "metadata": {},
   "source": [
    "## Challenge: Can you create the Irish flag? (Green, White, Orange)"
   ]
  },
  {
   "cell_type": "code",
   "execution_count": null,
   "metadata": {
    "collapsed": false
   },
   "outputs": [],
   "source": [
    "irish_flag = np.array(\n",
    "    [\n",
    "        [\n",
    "             # Add code here!\n",
    "        ]\n",
    "    ])\n",
    "\n",
    "plt.imshow(irish_flag, interpolation='nearest')\n",
    "plt.show()"
   ]
  },
  {
   "cell_type": "markdown",
   "metadata": {},
   "source": [
    "### Congratulations! you have learned your first image processing jutsu: how to make colors (and how to position pixels)\n",
    ":)"
   ]
  }
 ],
 "metadata": {
  "kernelspec": {
   "display_name": "Python 2",
   "language": "python",
   "name": "python2"
  },
  "language_info": {
   "codemirror_mode": {
    "name": "ipython",
    "version": 2
   },
   "file_extension": ".py",
   "mimetype": "text/x-python",
   "name": "python",
   "nbconvert_exporter": "python",
   "pygments_lexer": "ipython2",
   "version": "2.7.12"
  }
 },
 "nbformat": 4,
 "nbformat_minor": 1
}
